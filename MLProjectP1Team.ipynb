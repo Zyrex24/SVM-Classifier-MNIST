{
  "nbformat": 4,
  "nbformat_minor": 0,
  "metadata": {
    "colab": {
      "provenance": [],
      "authorship_tag": "ABX9TyMo9kvIXEcfjRKu4Uta9KzD",
      "include_colab_link": true
    },
    "kernelspec": {
      "name": "python3",
      "display_name": "Python 3"
    },
    "language_info": {
      "name": "python"
    }
  },
  "cells": [
    {
      "cell_type": "markdown",
      "metadata": {
        "id": "view-in-github",
        "colab_type": "text"
      },
      "source": [
        "<a href=\"https://colab.research.google.com/github/Zyrex24/SVM-Classifier-MNIST/blob/master/MLProjectP1Team.ipynb\" target=\"_parent\"><img src=\"https://colab.research.google.com/assets/colab-badge.svg\" alt=\"Open In Colab\"/></a>"
      ]
    },
    {
      "cell_type": "markdown",
      "source": [
        "# Theoretical Foundations of Machine Learning Course Project\n",
        "### Title: MNIST SVM Classifier and Model Comparison\n",
        "#### Team Members:\n",
        "| Name | ID |\n",
        "| -----| -----|\n",
        "| Ahmed Niazi | 20220452 |\n",
        "| Seif Eldin Emad | 20220448 |\n",
        "| Mathew Ashraf | 20220951 |\n",
        "| Reham Fawzy | 20220141 |\n",
        "| Sohaila El-Sayed | 20230612 |\n",
        "\n",
        "\n",
        "## Phase 1: Dataset Selection and Preparation\n",
        "### Objective:\n",
        "1. Select and load the MNIST dataset.\n",
        "2. Split the data into training, validation, and test sets.\n",
        "3. Preprocess the dataset to normalize pixel values and flatten images.\n",
        "\n",
        "---\n",
        "\n",
        "### **Code for Loading and Splitting Dataset**\n",
        "\n",
        "\n"
      ],
      "metadata": {
        "id": "iNNK07OU5d_W"
      }
    },
    {
      "cell_type": "code",
      "execution_count": 13,
      "metadata": {
        "id": "ozF870qd3KSe",
        "colab": {
          "base_uri": "https://localhost:8080/"
        },
        "outputId": "4742e66b-e363-4720-9c1c-b2f858e4c9c2"
      },
      "outputs": [
        {
          "output_type": "stream",
          "name": "stdout",
          "text": [
            "x_train shape: (51000, 784), y_train shape: (51000,)\n",
            "x_val shape: (9000, 784), y_val shape: (9000,)\n",
            "x_test shape: (10000, 784), y_test shape: (10000,)\n"
          ]
        }
      ],
      "source": [
        "import numpy as np\n",
        "import pandas as pd\n",
        "from sklearn.model_selection import train_test_split\n",
        "\n",
        "# Load MNIST data from uploaded CSV files and split the data then Extract features and labels\n",
        "train_data = pd.read_csv('mnist_train.csv')\n",
        "test_data = pd.read_csv('mnist_test.csv')\n",
        "\n",
        "x_train = train_data.iloc[:, 1:].values\n",
        "y_train = train_data.iloc[:, 0].values\n",
        "x_test = test_data.iloc[:, 1:].values\n",
        "y_test = test_data.iloc[:, 0].values\n",
        "\n",
        "# Preprocess and Normalize pixel values to range [0, 1]\n",
        "x_train = x_train / 255.0\n",
        "x_test = x_test / 255.0\n",
        "\n",
        "# Split training data into training and validation sets and then prints data shapes\n",
        "x_train, x_val, y_train, y_val = train_test_split(x_train, y_train, test_size=0.15, random_state=42)\n",
        "print(f\"x_train shape: {x_train.shape}, y_train shape: {y_train.shape}\")\n",
        "print(f\"x_val shape: {x_val.shape}, y_val shape: {y_val.shape}\")\n",
        "print(f\"x_test shape: {x_test.shape}, y_test shape: {y_test.shape}\")"
      ]
    }
  ]
}