{
  "nbformat": 4,
  "nbformat_minor": 0,
  "metadata": {
    "colab": {
      "provenance": [],
      "mount_file_id": "1B24EAijln5R83LxBKYnZvtArb3aJCmub",
      "authorship_tag": "ABX9TyM3GgaKs2U4qHfqMKaUpXMe",
      "include_colab_link": true
    },
    "kernelspec": {
      "name": "python3",
      "display_name": "Python 3"
    },
    "language_info": {
      "name": "python"
    }
  },
  "cells": [
    {
      "cell_type": "markdown",
      "metadata": {
        "id": "view-in-github",
        "colab_type": "text"
      },
      "source": [
        "<a href=\"https://colab.research.google.com/github/Zyrex24/SVM-Classifier-MNIST/blob/master/MLProjectP1Team.ipynb\" target=\"_parent\"><img src=\"https://colab.research.google.com/assets/colab-badge.svg\" alt=\"Open In Colab\"/></a>"
      ]
    },
    {
      "cell_type": "markdown",
      "source": [
        "# Theoretical Foundations of Machine Learning Course Project\n",
        "### Title: MNIST SVM Classifier and Model Comparison\n",
        "#### Team Members:\n",
        "| Name | ID |\n",
        "| -----| -----|\n",
        "| Ahmed Niazi | 20220452 |\n",
        "| Seif Eldin Emad | 20220448 |\n",
        "| Mathew Ashraf | 20220951 |\n",
        "| Reham Fawzy | 20220141 |\n",
        "| Sohaila El-Sayed | 20230612 |\n",
        "\n",
        "\n",
        "## Phase 1: Dataset Selection and Preparation\n",
        "### Objective:\n",
        "1. Select and load the MNIST dataset.\n",
        "2. Split the data into training, validation, and test sets.\n",
        "3. Preprocess the dataset to normalize pixel values and flatten images.\n",
        "\n",
        "---\n",
        "\n",
        "### **Code for Loading and Splitting Dataset**\n",
        "\n",
        "\n"
      ],
      "metadata": {
        "id": "iNNK07OU5d_W"
      }
    },
    {
      "cell_type": "code",
      "source": [
        "import numpy as np\n",
        "import pandas as pd\n",
        "from sklearn.model_selection import train_test_split\n",
        "import matplotlib.pyplot as plt"
      ],
      "metadata": {
        "id": "e0VmxfMBl7kU"
      },
      "execution_count": 2,
      "outputs": []
    },
    {
      "cell_type": "code",
      "source": [
        "# Load MNIST data from uploaded CSV files and split the data then Extract features and labels\n",
        "train_data = pd.read_csv('/content/drive/My Drive/MNIST/mnist_train.csv')\n",
        "test_data = pd.read_csv('/content/drive/My Drive/MNIST/mnist_test.csv')\n",
        "\n",
        "x_train = train_data.iloc[:, 1:].values\n",
        "y_train = train_data.iloc[:, 0].values\n",
        "x_test = test_data.iloc[:, 1:].values\n",
        "y_test = test_data.iloc[:, 0].values"
      ],
      "metadata": {
        "id": "yWEp3WO5l-Uf"
      },
      "execution_count": 3,
      "outputs": []
    },
    {
      "cell_type": "code",
      "execution_count": 4,
      "metadata": {
        "id": "ozF870qd3KSe",
        "colab": {
          "base_uri": "https://localhost:8080/",
          "height": 1000
        },
        "outputId": "f0b10def-daaa-47bf-fb89-d252f9aa3c92"
      },
      "outputs": [
        {
          "output_type": "display_data",
          "data": {
            "text/plain": [
              "<Figure size 2000x200 with 1 Axes>"
            ],
            "image/png": "[encoded data removed]"
          },
          "metadata": {}
        },
        {
          "output_type": "display_data",
          "data": {
            "text/plain": [
              "<Figure size 2000x200 with 1 Axes>"
            ],
            "image/png": "[encoded data removed]"
          },
          "metadata": {}
        },
        {
          "output_type": "display_data",
          "data": {
            "text/plain": [
              "<Figure size 2000x200 with 1 Axes>"
            ],
            "image/png": "[encoded data removed]"
          },
          "metadata": {}
        },
        {
          "output_type": "display_data",
          "data": {
            "text/plain": [
              "<Figure size 2000x200 with 1 Axes>"
            ],
            "image/png": "[encoded data removed]"
          },
          "metadata": {}
        },
        {
          "output_type": "display_data",
          "data": {
            "text/plain": [
              "<Figure size 2000x200 with 1 Axes>"
            ],
            "image/png": "[encoded data removed]"
          },
          "metadata": {}
        }
      ],
      "source": [
        "# Plot data before Preprocessing\n",
        "classes=['0','1','2','3','4','5','6','7','8','9']\n",
        "\n",
        "def plot_sample(x,y,index):\n",
        "    plt.figure(figsize = (20,2))\n",
        "    plt.imshow(x[index].reshape(28, 28), cmap='gray')#convert 1D into 2D (28x28) array\n",
        "    plt.xlabel(classes[y[index]])\n",
        "\n",
        "plot_sample(x_train,y_train,6)\n",
        "plot_sample(x_train,y_train,100)\n",
        "plot_sample(x_train,y_train,214)\n",
        "plot_sample(x_train,y_train,319)\n",
        "plot_sample(x_train,y_train,510)"
      ]
    },
    {
      "cell_type": "code",
      "source": [
        "# Preprocess and Normalize pixel values to range [0, 1]\n",
        "x_train = x_train / 255.0\n",
        "x_test = x_test / 255.0"
      ],
      "metadata": {
        "id": "WjwdevIOmUB_"
      },
      "execution_count": 5,
      "outputs": []
    },
    {
      "cell_type": "code",
      "source": [
        "# Split training data into training and validation sets and then prints data shapes\n",
        "x_train, x_val, y_train, y_val = train_test_split(x_train, y_train, test_size=0.15, random_state=42)\n",
        "print(f\"x_train shape: {x_train.shape}, y_train shape: {y_train.shape}\")\n",
        "print(f\"x_val shape: {x_val.shape}, y_val shape: {y_val.shape}\")\n",
        "print(f\"x_test shape: {x_test.shape}, y_test shape: {y_test.shape}\")"
      ],
      "metadata": {
        "colab": {
          "base_uri": "https://localhost:8080/"
        },
        "id": "l046n37JmV41",
        "outputId": "721238b7-7580-4684-df82-a30a298e7e33"
      },
      "execution_count": 6,
      "outputs": [
        {
          "output_type": "stream",
          "name": "stdout",
          "text": [
            "x_train shape: (51000, 784), y_train shape: (51000,)\n",
            "x_val shape: (9000, 784), y_val shape: (9000,)\n",
            "x_test shape: (10000, 784), y_test shape: (10000,)\n"
          ]
        }
      ]
    }
  ]
}